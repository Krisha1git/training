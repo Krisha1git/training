{
 "cells": [
  {
   "cell_type": "code",
   "execution_count": 44,
   "id": "eacc4187",
   "metadata": {},
   "outputs": [],
   "source": [
    "%matplotlib inline\n",
    "import numpy as np\n",
    "import pandas as pd\n",
    "import matplotlib.pyplot as plt"
   ]
  },
  {
   "cell_type": "code",
   "execution_count": 45,
   "id": "4b042fd9",
   "metadata": {},
   "outputs": [
    {
     "name": "stdout",
     "output_type": "stream",
     "text": [
      "Downloading train-images-idx3-ubyte.gz...\n",
      "Downloading t10k-images-idx3-ubyte.gz...\n",
      "Downloading train-labels-idx1-ubyte.gz...\n",
      "Downloading t10k-labels-idx1-ubyte.gz...\n",
      "Download complete.\n",
      "Save complete.\n",
      "[[0 0 0 ... 0 0 0]\n",
      " [0 0 0 ... 0 0 0]\n",
      " [0 0 0 ... 0 0 0]\n",
      " ...\n",
      " [0 0 0 ... 0 0 0]\n",
      " [0 0 0 ... 0 0 0]\n",
      " [0 0 0 ... 0 0 0]]\n",
      "[5 0 4 ... 5 6 8]\n",
      "[[0 0 0 ... 0 0 0]\n",
      " [0 0 0 ... 0 0 0]\n",
      " [0 0 0 ... 0 0 0]\n",
      " ...\n",
      " [0 0 0 ... 0 0 0]\n",
      " [0 0 0 ... 0 0 0]\n",
      " [0 0 0 ... 0 0 0]]\n",
      "[3 3 3 ... 3 3 3]\n",
      "[[0 0 0 ... 0 0 0]\n",
      " [0 0 0 ... 0 0 0]\n",
      " [0 0 0 ... 0 0 0]\n",
      " ...\n",
      " [0 0 0 ... 0 0 0]\n",
      " [0 0 0 ... 0 0 0]\n",
      " [0 0 0 ... 0 0 0]]\n",
      "[3 3 3 ... 3 3 3]\n"
     ]
    },
    {
     "data": {
      "text/plain": [
       "6131"
      ]
     },
     "execution_count": 45,
     "metadata": {},
     "output_type": "execute_result"
    }
   ],
   "source": [
    "import mnist\n",
    "mnist.init()\n",
    "x_train, y_train, x_test, y_test = mnist.load()\n",
    "print(x_train)\n",
    "print(y_train)\n",
    "train_filter = np.where(y_train == 3)\n",
    "test_filter = np.where(y_test == 3)\n",
    "X_train, Y_train = x_train[train_filter], y_train[train_filter]\n",
    "X_test, Y_test = x_test[test_filter], y_test[test_filter]\n",
    "print(X_train)\n",
    "print(Y_train)\n",
    "print(X_test)\n",
    "print(Y_test)\n",
    "X_train.reshape(6131,784)\n",
    "X_train = X_train.astype('float32')\n",
    "X_train.shape[0]"
   ]
  },
  {
   "cell_type": "code",
   "execution_count": 50,
   "id": "533d83ae",
   "metadata": {},
   "outputs": [],
   "source": [
    "def pca(x, variance):\n",
    "    x = x - np.mean(x,axis = 0)\n",
    "    covariance = np.cov(x, rowvar = False)\n",
    "   # sigma = np.dot(x.T , x)/(x.shape[0])\n",
    "   # print(sigma.shape)\n",
    "    U, s, V = np.linalg.svd(covariance)\n",
    "   # print(U.shape)\n",
    "   # print(s.shape)\n",
    "    sum_t = 0.0\n",
    "    sum = np.sum(s)\n",
    "    \n",
    "    for i in range (0,x.shape[1]-1):\n",
    "        sum_t = sum_t + s[i]\n",
    "        if(sum_t/sum >= variance):\n",
    "            k = i\n",
    "            break\n",
    "        \n",
    "    u_reduced = U[:,0:k].copy()\n",
    "    z = np.dot(u_reduced.T, x.T)\n",
    "    return z.T\n",
    "   "
   ]
  },
  {
   "cell_type": "code",
   "execution_count": 53,
   "id": "79e68a82",
   "metadata": {},
   "outputs": [
    {
     "name": "stdout",
     "output_type": "stream",
     "text": [
      "(784, 784)\n",
      "(784,)\n",
      "(6131, 137)\n"
     ]
    }
   ],
   "source": [
    "approx = pca(X_train, 0.95)\n",
    "\n",
    "print(approx.shape)"
   ]
  },
  {
   "cell_type": "code",
   "execution_count": null,
   "id": "2bc766ad",
   "metadata": {},
   "outputs": [],
   "source": []
  }
 ],
 "metadata": {
  "kernelspec": {
   "display_name": "Python 3 (ipykernel)",
   "language": "python",
   "name": "python3"
  },
  "language_info": {
   "codemirror_mode": {
    "name": "ipython",
    "version": 3
   },
   "file_extension": ".py",
   "mimetype": "text/x-python",
   "name": "python",
   "nbconvert_exporter": "python",
   "pygments_lexer": "ipython3",
   "version": "3.9.7"
  }
 },
 "nbformat": 4,
 "nbformat_minor": 5
}
